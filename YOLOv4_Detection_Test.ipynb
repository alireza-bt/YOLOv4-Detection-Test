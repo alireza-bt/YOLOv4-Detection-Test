{
  "nbformat": 4,
  "nbformat_minor": 0,
  "metadata": {
    "colab": {
      "name": "YOLOv4_Detection_Test.ipynb",
      "provenance": [],
      "authorship_tag": "ABX9TyM0E4VvsL2tmTNsZcn+hi9c",
      "include_colab_link": true
    },
    "kernelspec": {
      "name": "python3",
      "display_name": "Python 3"
    }
  },
  "cells": [
    {
      "cell_type": "markdown",
      "metadata": {
        "id": "view-in-github",
        "colab_type": "text"
      },
      "source": [
        "<a href=\"https://colab.research.google.com/github/alireza-bt/YOLOv4-Detection-Test/blob/master/YOLOv4_Detection_Test.ipynb\" target=\"_parent\"><img src=\"https://colab.research.google.com/assets/colab-badge.svg\" alt=\"Open In Colab\"/></a>"
      ]
    },
    {
      "cell_type": "markdown",
      "metadata": {
        "id": "4JNTFa-dS6RW",
        "colab_type": "text"
      },
      "source": [
        "Testing YOLOv4 object detection using Darknet (Pre-trained Model) with Colab GPU"
      ]
    },
    {
      "cell_type": "code",
      "metadata": {
        "id": "LVuUIp1PTHw5",
        "colab_type": "code",
        "colab": {}
      },
      "source": [
        "git clone https://github.com/AlexeyAB/darknet"
      ],
      "execution_count": null,
      "outputs": []
    }
  ]
}